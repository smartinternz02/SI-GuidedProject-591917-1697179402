{
  "nbformat": 4,
  "nbformat_minor": 0,
  "metadata": {
    "colab": {
      "provenance": [],
      "gpuType": "T4"
    },
    "kernelspec": {
      "name": "python3",
      "display_name": "Python 3"
    },
    "language_info": {
      "name": "python"
    },
    "accelerator": "GPU"
  },
  "cells": [
    {
      "cell_type": "code",
      "source": [
        "from google.colab import drive\n",
        "drive.mount('/content/drive')"
      ],
      "metadata": {
        "colab": {
          "base_uri": "https://localhost:8080/"
        },
        "id": "gTEoFpF9n-z4",
        "outputId": "afb0d122-41fe-41c0-e473-865829118b76"
      },
      "execution_count": null,
      "outputs": [
        {
          "output_type": "stream",
          "name": "stdout",
          "text": [
            "Mounted at /content/drive\n"
          ]
        }
      ]
    },
    {
      "cell_type": "code",
      "source": [
        "from tensorflow.keras.models import load_model\n",
        "from tensorflow.keras.preprocessing import image\n",
        "import numpy as np\n",
        "from tensorflow.keras.applications.vgg16 import preprocess_input\n",
        "\n",
        "model = load_model('/content/drive/MyDrive/Sports_vgg16.h5')\n",
        "model.compile(optimizer='adam', loss='categorical_crossentropy', metrics=['accuracy'])\n",
        "img = image.load_img('/content/drive/MyDrive/Datasets/test/arm wrestling/1.jpg', target_size=(224, 224))\n",
        "x = image.img_to_array(img)\n",
        "x = np.expand_dims(x, axis=0)\n",
        "img_data = preprocess_input(x)\n",
        "output = np.argmax(model.predict(img_data), axis=1)\n",
        "\n",
        "index = [\"air hockey\", \"ampute football\", \"archery\", \"arm wrestling\", \"axe throwing\", \"balance beam\",\n",
        "         \"barrel racing\", \"baseball\", \"basketball\", \"baton twirling\", \"bike polo\", \"billiards\", \"bmx\", \"bobsled\",\n",
        "         \"bowling\", \"boxing\", \"bull riding\", \"bungee jumping\", \"canoe slalom\", \"cheerleading\", \"chuckwagon racing\",\n",
        "         \"cricket\", \"croquet\", \"curling\", \"disc golf\", \"fencing\", \"field hockey\", \"figure skating men\", \"figure skating pairs\",\n",
        "         \"figure skating women\", \"fly fishing\", \"football\", \"formula 1 racing\", \"frisbee\", \"gaga\", \"giant slalom\", \"golf\",\n",
        "         \"hammer throw\", \"hang gliding\", \"harness racing\", \"high jump\", \"hockey\", \"horse jumping\", \"horse racing\",\n",
        "         \"horseshoe pitching\", \"hurdles\", \"hydroplane racing\", \"ice climbing\", \"ice yachting\", \"jai alai\", \"javelin\", \"jousting\",\n",
        "         \"judo\", \"lacrosse\", \"log rolling\", \"luge\", \"motorcycle racing\", \"mushing\", \"nascar racing\", \"olympic wrestling\",\n",
        "         \"parallel bar\", \"pole climbing\", \"pole dancing\", \"pole vault\", \"polo\", \"pommel horse\", \"rings\", \"rock climbing\",\n",
        "         \"roller derby\", \"rollerblade racing\", \"rowing\", \"rugby\", \"sailboat racing\", \"shot put\", \"shuffleboard\", \"sidecar racing\",\n",
        "         \"ski jumping\", \"sky surfing\", \"skydiving\", \"snowboarding\", \"snowmobile racing\", \"speed skating\", \"steer wrestling\",\n",
        "         \"sumo wrestling\", \"surfing\", \"swimming\", \"table tennis\", \"tennis\", \"track bicycle\", \"trapeze\", \"tug of war\",\n",
        "         \"ultimate\", \"uneven bars\", \"volleyball\", \"water cycling\", \"water polo\", \"weightlifting\", \"wheelchair basketball\",\n",
        "         \"wheelchair racing\", \"wingsuit flying\"]\n",
        "\n",
        "result = str(index[output[0]])\n",
        "result\n"
      ],
      "metadata": {
        "colab": {
          "base_uri": "https://localhost:8080/",
          "height": 54
        },
        "id": "dYyS_yMe-soD",
        "outputId": "32efba36-c995-4843-b1e1-da0a42a3c2b1"
      },
      "execution_count": null,
      "outputs": [
        {
          "output_type": "stream",
          "name": "stdout",
          "text": [
            "1/1 [==============================] - 0s 123ms/step\n"
          ]
        },
        {
          "output_type": "execute_result",
          "data": {
            "text/plain": [
              "'steer wrestling'"
            ],
            "application/vnd.google.colaboratory.intrinsic+json": {
              "type": "string"
            }
          },
          "metadata": {},
          "execution_count": 4
        }
      ]
    },
    {
      "cell_type": "code",
      "source": [],
      "metadata": {
        "id": "_FDOFGtMCP6v"
      },
      "execution_count": null,
      "outputs": []
    }
  ]
}